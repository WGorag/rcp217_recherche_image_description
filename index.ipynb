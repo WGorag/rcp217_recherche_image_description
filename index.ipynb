{
 "cells": [
  {
   "cell_type": "code",
   "execution_count": 1,
   "id": "8a7d092e-82c0-41bd-aa3a-b81b77231f04",
   "metadata": {},
   "outputs": [],
   "source": [
    "\n",
    "# Choix de device\n",
    "\n",
    "device = 'cpu'\n",
    "# device = 'cuda'\n"
   ]
  },
  {
   "cell_type": "code",
   "execution_count": 2,
   "id": "dd92c3c1-97ea-41fb-9c5d-e07f2f2da04b",
   "metadata": {},
   "outputs": [],
   "source": [
    "# Définition de START et END pour éviter des fautes de frappe :\n",
    "\n",
    "START = \"<start>\"\n",
    "END = \"<end>\""
   ]
  },
  {
   "cell_type": "code",
   "execution_count": 3,
   "id": "b287e996-9143-4bb8-8f61-9f91997260b9",
   "metadata": {},
   "outputs": [],
   "source": [
    "\n",
    "import pickle\n",
    "import random\n",
    "from collections import Counter\n",
    "from functools import reduce\n",
    "from itertools import islice\n",
    "\n",
    "import matplotlib.image as mpimg\n",
    "import matplotlib.pyplot as plt\n",
    "import numpy as np\n",
    "import torch\n",
    "import torch.functional as F\n",
    "import torch.nn as nn\n",
    "import torch.nn.functional as F\n",
    "import torch.optim\n",
    "import torch.utils.data as D\n",
    "from numpy.random import choice\n",
    "from torch.nn.utils.rnn import pad_sequence\n",
    "from torch.utils.data.dataloader import DataLoader\n",
    "from torchtext.data import get_tokenizer\n",
    "from torchtext.data.metrics import bleu_score\n",
    "from torchtext.utils import download_from_url\n",
    "from torchtext.vocab import Vectors, Vocab\n",
    "import torchtext.vocab as V\n",
    "import csv"
   ]
  },
  {
   "cell_type": "code",
   "execution_count": 4,
   "id": "73320d87-134e-429f-a35b-3baad4bce532",
   "metadata": {},
   "outputs": [],
   "source": [
    "#\n",
    "\n",
    "url_flicker_train = 'flickr_8k_train_dataset.txt';\n",
    "url_flicker_test = 'flickr_8k_test_dataset.txt'\n",
    "\n",
    "def flicker_source(fName):\n",
    "    \"\"\"\n",
    "    Une fonction qui charge un jeu de données, et renvoie un générateur\n",
    "    permettant de le parcourir.\n",
    "\n",
    "    Résultat:\n",
    "        un générateur renvoyant des couples de string \"nom d'image\", \"label de l'image\"\n",
    "    \"\"\"\n",
    "    with open(fName, encoding='utf-8') as f:\n",
    "        reader = csv.reader(f, delimiter='\\t')\n",
    "        next(reader) # skip the first row (column headers)\n",
    "        for row in reader:\n",
    "            image, texte = row\n",
    "            yield image, texte\n",
    "\n",
    "def flicker_train():\n",
    "    return flicker_source(url_flicker_train)\n",
    "\n",
    "def flicker_test():\n",
    "    return flicker_source(url_flicker_test)\n"
   ]
  },
  {
   "cell_type": "code",
   "execution_count": 34,
   "id": "8421a20e-566b-4cc3-aec2-b9045a0964fe",
   "metadata": {
    "tags": []
   },
   "outputs": [
    {
     "name": "stdout",
     "output_type": "stream",
     "text": [
      "['3156991513_3bf03333d8.jpg\\t<start>', 'Man', 'riding', 'a', 'bicycle', 'through', 'dry', 'grass', '<end>', '1', '1', '1', '1', '1\\n']\n"
     ]
    }
   ],
   "source": [
    "# Ouvrir le fichier en mode lecture\n",
    "with open(\"flickr_8k_train_dataset-perso.txt\", \"r\") as f:\n",
    "    lignes = f.readlines()\n",
    "\n",
    "# Sélectionner une ligne aléatoire\n",
    "ligne_aleatoire = random.choice(lignes)\n",
    "\n",
    "# Afficher la ligne sélectionnée\n",
    "print(ligne_aleatoire.split(' '))\n",
    "# # Modifier chaque ligne\n",
    "# for i in range(len(lignes)):\n",
    "#     lignes[i] = lignes[i].rstrip() + \" 1\\n\"\n",
    "\n",
    "# # Ouvrir le fichier en mode écriture\n",
    "# with open(\"flickr_8k_train_dataset-perso.txt\", \"w\") as f:\n",
    "#     f.writelines(lignes)\n"
   ]
  },
  {
   "cell_type": "code",
   "execution_count": 74,
   "id": "c0b8c1d7-1ec3-4fee-bf5c-e09fd4d04982",
   "metadata": {
    "tags": []
   },
   "outputs": [
    {
     "name": "stdout",
     "output_type": "stream",
     "text": [
      "30000\n",
      "dict_values(['<start> A black dog is running after a white dog in the snow . <end>', '2513260012_03d33305cf.jpg', 1])\n"
     ]
    }
   ],
   "source": [
    "datas = {}\n",
    "i = 0\n",
    "for image, texte in flicker_train():\n",
    "    datas[i] = {\n",
    "        'description': texte,\n",
    "        'image': image,\n",
    "        'correspond': 1\n",
    "    }\n",
    "    i += 1\n",
    "\n",
    "ligne_aleatoire = random.choice(datas)\n",
    "\n",
    "# Afficher la ligne sélectionnée\n",
    "print(len(datas))    \n",
    "\n",
    "for j in range(len(datas)):\n",
    "    data_aleatoire = random.choice(datas)\n",
    "    if data_aleatoire['image'] == datas[j]['image']:\n",
    "        data_aleatoire = random.choice(datas)\n",
    "    datas[i] = {\n",
    "        'description': datas[j]['description'],\n",
    "        'image': data_aleatoire['image'],\n",
    "        'correspond': 0\n",
    "    }\n",
    "    i += 1;\n",
    "\n",
    "print(len(dat)    \n",
    "\n",
    "random.shuffle(datas)"
   ]
  },
  {
   "cell_type": "code",
   "execution_count": 77,
   "id": "2258b919-eda1-4e56-a510-b025b3b0f7fc",
   "metadata": {
    "tags": []
   },
   "outputs": [],
   "source": [
    "with open(\"dataset.csv\", \"w\", newline=\"\") as fichier_csv:\n",
    "\n",
    "    # Crée un objet writer\n",
    "    writer = csv.writer(fichier_csv)\n",
    "    \n",
    "    writer.writerow(datas[0].keys())\n",
    "    \n",
    "    # Écrit les valeurs de chaque dictionnaire dans le fichier CSV\n",
    "    for i in range(len(datas)):\n",
    "        writer.writerow(datas[i].values())"
   ]
  }
 ],
 "metadata": {
  "kernelspec": {
   "display_name": "Python 3 (ipykernel)",
   "language": "python",
   "name": "python3"
  },
  "language_info": {
   "codemirror_mode": {
    "name": "ipython",
    "version": 3
   },
   "file_extension": ".py",
   "mimetype": "text/x-python",
   "name": "python",
   "nbconvert_exporter": "python",
   "pygments_lexer": "ipython3",
   "version": "3.10.8"
  }
 },
 "nbformat": 4,
 "nbformat_minor": 5
}

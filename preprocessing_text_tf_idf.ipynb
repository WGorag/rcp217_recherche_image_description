{
 "cells": [
  {
   "cell_type": "code",
   "execution_count": 1,
   "id": "34eec55c-0740-4e8e-b386-585c72e9ac05",
   "metadata": {},
   "outputs": [],
   "source": [
    "\n",
    "# Choix de device\n",
    "\n",
    "# device = 'cpu'\n",
    "device = 'cuda'"
   ]
  },
  {
   "cell_type": "code",
   "execution_count": 2,
   "id": "ca26493d-0316-4765-b9fb-ff7f0924493e",
   "metadata": {},
   "outputs": [],
   "source": [
    "# Définition de START et END pour éviter des fautes de frappe :\n",
    "\n",
    "START = \"<start>\"\n",
    "END = \"<end>\"\n",
    "\n",
    "MAX_VOCAB_SIZE = 1000\n",
    "MAX_SEQ_LENGTH = 25"
   ]
  },
  {
   "cell_type": "code",
   "execution_count": 3,
   "id": "860e81fd-5bef-43c9-b8ee-3502c5cfe905",
   "metadata": {},
   "outputs": [],
   "source": [
    "\n",
    "import pickle\n",
    "import random\n",
    "from collections import Counter\n",
    "from functools import reduce\n",
    "from itertools import islice\n",
    "\n",
    "import matplotlib.image as mpimg\n",
    "import matplotlib.pyplot as plt\n",
    "import numpy as np\n",
    "import torch\n",
    "import torch.functional as F\n",
    "import torch.nn as nn\n",
    "import torch.nn.functional as F\n",
    "import torch.optim\n",
    "import torch.utils.data as D\n",
    "import torchtext\n",
    "from numpy.random import choice\n",
    "from torch.nn.utils.rnn import pad_sequence\n",
    "from torch.utils.data.dataloader import DataLoader\n",
    "from torchtext.data import get_tokenizer\n",
    "from torchtext.data.metrics import bleu_score\n",
    "from torchtext.utils import download_from_url\n",
    "from torchtext.vocab import Vectors, Vocab\n",
    "import torchtext.vocab as V\n",
    "import csv\n",
    "import nltk\n",
    "from nltk.corpus import stopwords\n",
    "import string\n",
    "import math\n",
    "from transformers import BertTokenizer, BertModel\n",
    "from nltk.collocations import BigramAssocMeasures, BigramCollocationFinder\n",
    "from math import log\n",
    "from nltk.stem import WordNetLemmatizer\n",
    "\n",
    "from sklearn.feature_extraction.text import TfidfVectorizer"
   ]
  },
  {
   "cell_type": "code",
   "execution_count": 4,
   "id": "8acaa967-7e57-4fd2-a245-9fec61b6d834",
   "metadata": {
    "tags": []
   },
   "outputs": [],
   "source": [
    "def preprocess_text(captions):\n",
    "    nltk.download('stopwords')\n",
    "    STOPWORDS = set(stopwords.words('english'))\n",
    "    nltk.download('wordnet')\n",
    "    lemmatizer = WordNetLemmatizer()\n",
    "\n",
    "    # Tokenization des captions\n",
    "    tokenizer = get_tokenizer(\"basic_english\")\n",
    "    tokenized_captions = []\n",
    "    descriptions = []\n",
    "    for caption in captions:\n",
    "        description = caption.lower()\n",
    "        description = description.replace(START, '')\n",
    "        description = description.replace(END, '')\n",
    "        description = description.translate(str.maketrans('', '', string.punctuation))\n",
    "        description = description.split()\n",
    "        description = [lemmatizer.lemmatize(word) for word in description if word not in STOPWORDS]\n",
    "        description = ' '.join(description)\n",
    "        descriptions.append(description)\n",
    "    return descriptions"
   ]
  },
  {
   "cell_type": "code",
   "execution_count": 5,
   "id": "7736689d-1598-4303-a9e1-573d63881e5c",
   "metadata": {},
   "outputs": [],
   "source": [
    "#\n",
    "url_flicker_train = 'flickr_8k_train_dataset.txt';\n",
    "def flicker_source(fName):\n",
    "    \"\"\"\n",
    "    Une fonction qui charge un jeu de données, et renvoie un générateur\n",
    "    permettant de le parcourir.\n",
    "\n",
    "    Résultat:\n",
    "        un générateur renvoyant des couples de string \"nom d'image\", \"label de l'image\"\n",
    "    \"\"\"\n",
    "    images = []\n",
    "    descriptions = []\n",
    "    with open(fName, encoding='utf-8') as f:\n",
    "        reader = csv.reader(f, delimiter='\\t')\n",
    "        next(reader) # skip the first row (column headers)\n",
    "        for row in reader:\n",
    "            image, texte = row\n",
    "            images.append(image)\n",
    "            descriptions.append(texte)\n",
    "        return images, descriptions\n",
    "\n",
    "def flicker_train():\n",
    "    return flicker_source(url_flicker_train)"
   ]
  },
  {
   "cell_type": "code",
   "execution_count": 6,
   "id": "8a3dadf5-366a-4f39-ba04-1fdf752faa94",
   "metadata": {
    "tags": []
   },
   "outputs": [
    {
     "name": "stderr",
     "output_type": "stream",
     "text": [
      "[nltk_data] Downloading package stopwords to /root/nltk_data...\n",
      "[nltk_data]   Package stopwords is already up-to-date!\n",
      "[nltk_data] Downloading package wordnet to /root/nltk_data...\n",
      "[nltk_data]   Package wordnet is already up-to-date!\n"
     ]
    }
   ],
   "source": [
    "training_images, training_descriptions = flicker_train()\n",
    "captions = preprocess_text(training_descriptions)"
   ]
  },
  {
   "cell_type": "code",
   "execution_count": 7,
   "id": "c584efb6-47b1-4e75-a195-251aa6c1d049",
   "metadata": {
    "tags": []
   },
   "outputs": [
    {
     "name": "stdout",
     "output_type": "stream",
     "text": [
      "2138\n"
     ]
    }
   ],
   "source": [
    "corpus = [word for caption in captions for word in caption.split(' ')]\n",
    "print(math.ceil(len(set(corpus))*0.33))"
   ]
  },
  {
   "cell_type": "code",
   "execution_count": 8,
   "id": "975cebf8-456f-4390-945e-cc108460bc2a",
   "metadata": {
    "tags": []
   },
   "outputs": [],
   "source": [
    "def get_top_words(descriptions, max_features=100):\n",
    "\n",
    "    # Créer un vecteur de TF-IDF\n",
    "    vectorizer = TfidfVectorizer(max_features=max_features)\n",
    "    X = vectorizer.fit_transform(corpus)\n",
    "\n",
    "    # Récupérer les mots les plus importants\n",
    "    return list(vectorizer.vocabulary_.keys())"
   ]
  },
  {
   "cell_type": "code",
   "execution_count": 9,
   "id": "ad9caf71-c349-453f-875f-c0f3e27d13cd",
   "metadata": {
    "tags": []
   },
   "outputs": [],
   "source": [
    "vocab = get_top_words(captions, math.ceil(len(set(corpus))*0.25))"
   ]
  },
  {
   "cell_type": "code",
   "execution_count": 10,
   "id": "c55af2ab-0479-40b1-bca1-89457a8bfec9",
   "metadata": {
    "tags": []
   },
   "outputs": [],
   "source": [
    "descriptions = []\n",
    "for caption in captions:\n",
    "    valid_words = []\n",
    "    for word in caption.split(' '):\n",
    "        if word in vocab:\n",
    "            valid_words.append(word)\n",
    "    descriptions.append(\" \".join(valid_words))"
   ]
  },
  {
   "cell_type": "code",
   "execution_count": 25,
   "id": "b00aee72-06e0-472d-93e7-0ce0b909036d",
   "metadata": {
    "tags": []
   },
   "outputs": [
    {
     "name": "stderr",
     "output_type": "stream",
     "text": [
      "Some weights of the model checkpoint at bert-base-uncased were not used when initializing BertModel: ['cls.seq_relationship.weight', 'cls.predictions.bias', 'cls.predictions.transform.dense.bias', 'cls.predictions.decoder.weight', 'cls.seq_relationship.bias', 'cls.predictions.transform.LayerNorm.weight', 'cls.predictions.transform.dense.weight', 'cls.predictions.transform.LayerNorm.bias']\n",
      "- This IS expected if you are initializing BertModel from the checkpoint of a model trained on another task or with another architecture (e.g. initializing a BertForSequenceClassification model from a BertForPreTraining model).\n",
      "- This IS NOT expected if you are initializing BertModel from the checkpoint of a model that you expect to be exactly identical (initializing a BertForSequenceClassification model from a BertForSequenceClassification model).\n"
     ]
    }
   ],
   "source": [
    "# Charger le tokenizer BERT\n",
    "tokenizer = BertTokenizer.from_pretrained('bert-base-uncased')\n",
    "\n",
    "# Charger le modèle BERT\n",
    "model = BertModel.from_pretrained('bert-base-uncased')\n",
    "\n",
    "# Utiliser le GPU si disponible\n",
    "# device = torch.device(\"cuda\" if torch.cuda.is_available() else \"cpu\")\n",
    "model.to('cuda')\n",
    "\n",
    "def extract_text_features(description):\n",
    "    tokens = tokenizer.encode(description, add_special_tokens=True)\n",
    "\n",
    "    # Conversion des tokens en tenseur PyTorch\n",
    "    tokens_tensor = torch.tensor([tokens]).to('cuda')\n",
    "\n",
    "    # Encodage du texte avec le modèle BERT\n",
    "    with torch.no_grad():\n",
    "        outputs = model(tokens_tensor)\n",
    "\n",
    "    # Récupération de la représentation du texte\n",
    "    last_hidden_state = outputs[0]\n",
    "    return torch.mean(last_hidden_state, dim=1).squeeze()"
   ]
  },
  {
   "cell_type": "code",
   "execution_count": 14,
   "id": "a200784e-34b5-44d9-8680-2291a8d115f6",
   "metadata": {
    "tags": []
   },
   "outputs": [],
   "source": [
    "description_features = []\n",
    "for description in descriptions:\n",
    "    description_features.append(extract_text_features(description))\n",
    "    \n",
    "print(description_features.shape)"
   ]
  },
  {
   "cell_type": "code",
   "execution_count": 26,
   "id": "56f9dc43-f4fa-4108-855a-382242a20eba",
   "metadata": {
    "tags": []
   },
   "outputs": [],
   "source": [
    "description_features2 = []\n",
    "for description in descriptions:\n",
    "    description_features2.append(extract_text_features(description))"
   ]
  },
  {
   "cell_type": "code",
   "execution_count": 33,
   "id": "9edbb375-f672-4255-99d0-78b9bb351b1b",
   "metadata": {
    "tags": []
   },
   "outputs": [
    {
     "name": "stdout",
     "output_type": "stream",
     "text": [
      "tensor([ 1.3747e-01,  2.7786e-01, -1.3468e-01, -2.2327e-01,  5.9852e-02,\n",
      "         1.5798e-01,  4.8881e-01,  2.0686e-01, -1.1174e-01,  5.6133e-02,\n",
      "         4.1083e-02, -2.4741e-01, -2.0081e-01,  4.5355e-01, -3.8095e-01,\n",
      "        -5.7409e-03,  6.5971e-02,  3.5838e-01,  2.3705e-01,  6.4220e-02,\n",
      "        -7.8322e-02, -2.1235e-01, -2.6422e-01, -1.8834e-01,  4.4314e-01,\n",
      "         2.1382e-01,  1.6894e-01,  4.7405e-01, -1.1095e-01, -1.5089e-01,\n",
      "         2.3129e-01, -3.2842e-01, -9.5386e-02,  3.1948e-01,  5.0823e-01,\n",
      "        -1.5343e-02, -1.2638e-01, -1.0039e-01, -4.5734e-01,  1.0978e-01,\n",
      "        -7.2037e-02, -1.0122e-01, -3.0927e-01,  2.3023e-01, -6.4082e-02,\n",
      "         2.5440e-02, -9.3549e-02, -3.5182e-02,  3.9963e-01, -4.4188e-01,\n",
      "        -4.1990e-01,  1.3455e-01, -5.1730e-02,  8.4842e-02, -3.1853e-01,\n",
      "         2.1371e-01,  3.3211e-01,  1.8126e-02, -2.7001e-01, -3.9065e-01,\n",
      "         1.1179e-01, -1.7751e-01,  1.6040e-01, -9.5923e-02, -2.2220e-01,\n",
      "         2.3655e-01, -6.1176e-02,  5.0100e-01, -3.4858e-01, -1.0069e-01,\n",
      "        -7.8439e-02, -1.5581e-01,  3.5417e-02,  2.4872e-01, -2.7295e-01,\n",
      "        -2.2638e-01, -5.2705e-02, -9.5522e-03, -1.5892e-01, -1.7111e-01,\n",
      "         5.8588e-02, -3.1691e-02,  4.2553e-02,  4.0590e-01,  2.4561e-03,\n",
      "         6.3707e-02,  2.1588e-01, -8.0058e-02, -3.6688e-01,  5.7367e-01,\n",
      "         4.6774e-02, -4.2544e-01, -2.3395e-01,  2.5044e-02, -1.6730e-01,\n",
      "         2.9272e-01, -1.5600e-01,  3.4413e-01,  2.5284e-01, -1.7584e-01,\n",
      "        -6.9687e-02, -4.4231e-01,  2.2006e-01,  4.5241e-01, -1.2114e-01,\n",
      "        -2.1754e-01,  1.1595e-01,  1.3401e-01,  2.5831e-01, -3.6393e-02,\n",
      "         3.6475e-01, -2.8806e-01,  1.6441e-01,  6.1719e-02, -2.0492e-01,\n",
      "         5.0390e-01, -1.3876e-01, -2.3464e-02,  8.1228e-02,  2.3214e-01,\n",
      "         1.6075e-01, -1.2774e-01, -2.0161e-01,  7.0461e-01,  4.1239e-03,\n",
      "         1.4240e-01, -5.1705e-01,  3.0437e-01, -1.3826e-01, -2.3518e-01,\n",
      "         2.7449e-02,  1.7881e-01, -5.5982e-02,  3.9844e-02,  4.3162e-02,\n",
      "         1.0344e-01,  2.4750e-01, -1.4239e-01, -5.6734e-01, -2.2061e-01,\n",
      "        -4.2860e-01,  4.2724e-01, -4.0121e-03, -1.1489e-01,  5.4557e-01,\n",
      "         1.5024e-01, -1.1677e-01,  1.5107e-01,  2.7001e-01,  4.2129e-01,\n",
      "        -3.9174e-01,  1.5437e-03,  5.0807e-02,  9.0100e-02, -3.5873e-01,\n",
      "         1.3802e-01, -2.9406e-01,  2.4878e-01,  5.1073e-02,  2.1386e-01,\n",
      "         2.5650e-01,  6.6171e-02,  2.4731e-01,  3.1469e-01,  3.2658e-02,\n",
      "         1.9368e-02, -4.8848e-02, -1.7849e-01, -5.6309e-01,  2.0314e-01,\n",
      "        -5.7505e-02,  7.7228e-02,  7.9223e-01,  2.8653e-02, -1.4698e-01,\n",
      "         1.3598e-02, -2.5125e-01, -1.7434e-01, -1.6139e-01, -1.2214e-01,\n",
      "        -1.2404e+00,  5.6950e-01,  1.7680e-01,  5.2748e-01,  9.4230e-02,\n",
      "        -1.5300e-01,  2.7850e-01, -2.8672e-01, -1.3415e-01, -3.2039e-01,\n",
      "         3.1307e-02, -1.6916e-01, -5.1290e-01, -5.6780e-02,  5.9401e-01,\n",
      "        -6.0036e-01,  8.5769e-02, -8.9611e-01, -1.2694e-01,  3.9965e-02,\n",
      "         1.9810e-01, -2.9416e-01,  4.7749e-01,  9.2190e-02,  1.6022e-03,\n",
      "         5.9901e-01,  3.9387e-01,  1.5935e-01,  3.7311e-01,  2.4434e-01,\n",
      "        -8.2869e-02,  2.0077e-01,  3.2247e-01,  2.8935e-01,  5.8418e-03,\n",
      "        -5.0349e-02, -5.1703e-02, -2.8139e-02,  1.1077e-01,  6.1716e-02,\n",
      "         1.6314e-01, -2.0420e-01, -4.8046e-01,  3.4859e-01, -3.9740e-02,\n",
      "         3.3005e-01,  3.2876e-01, -1.1726e-01,  2.8421e-01,  8.9666e-02,\n",
      "         3.8565e-01,  2.6364e-01, -1.1333e-01, -1.0168e-01, -5.6436e-01,\n",
      "        -1.7705e-02,  3.1056e-01, -4.5139e-01,  1.9699e-01, -3.2974e-01,\n",
      "        -1.3832e-01,  2.7803e-01,  6.9027e-01, -1.7503e-01, -9.3944e-03,\n",
      "        -6.0629e-01,  5.3738e-01,  3.0030e-01,  3.1534e-01, -1.5345e-01,\n",
      "         1.4868e-01, -9.8419e-01,  3.1661e-01, -3.4549e-01, -3.1905e-01,\n",
      "        -3.2368e-01, -9.0043e-02, -3.6546e-01,  2.4855e-01,  1.6953e-01,\n",
      "         3.9712e-01,  4.0295e-01,  2.8119e-01,  1.1825e-01, -2.9630e-01,\n",
      "        -3.3889e-01, -4.6631e-01,  4.1214e-01,  2.9127e-01, -1.1143e-01,\n",
      "        -6.2689e-02,  2.9932e-02,  1.3216e-01, -2.3150e-01, -2.4386e-01,\n",
      "        -3.7863e-01,  4.7856e-01,  1.6435e-01, -3.2124e-01, -2.8476e-01,\n",
      "         2.0684e-01,  2.0639e-01, -7.0044e-02,  4.5636e-03, -7.7610e-03,\n",
      "        -6.9096e-01,  3.1446e-01,  1.4952e-01, -3.9325e-01,  3.0229e-01,\n",
      "         8.4412e-02,  4.1733e-01, -3.9827e-02, -1.9817e-01,  7.3338e-02,\n",
      "         3.7062e-01,  4.9748e-01,  9.6377e-02,  5.2008e-01, -1.1532e-01,\n",
      "         1.8868e-01,  1.2821e-01, -6.3973e-02,  7.6310e-02,  1.0791e-01,\n",
      "        -7.2018e-02, -1.9630e-01, -2.4088e-01, -4.4505e+00, -8.9350e-02,\n",
      "        -1.9852e-01, -3.8511e-01,  2.3831e-01, -5.0972e-01,  9.2940e-02,\n",
      "        -1.0451e-01, -3.4397e-01,  3.0890e-01, -3.8993e-01, -1.5339e-01,\n",
      "         4.2161e-01,  1.9294e-01,  4.8244e-01, -1.5086e-01, -9.1659e-03,\n",
      "        -5.8334e-01, -2.7653e-01,  3.3868e-01, -2.0044e-01, -8.1686e-02,\n",
      "         4.3641e-02, -1.9197e-01,  2.2817e-01,  4.7098e-01, -1.6847e-01,\n",
      "        -2.0284e-01, -1.8962e-01, -2.2236e-01,  2.4474e-01, -2.3584e-01,\n",
      "        -2.0618e-01, -2.3888e-01, -1.1899e-01, -1.7303e-01, -1.0317e-01,\n",
      "        -1.3924e-01,  8.9784e-02,  5.4224e-01,  1.5305e-01, -4.7510e-01,\n",
      "        -5.4643e-02,  3.0882e-01,  4.2604e-01,  4.6359e-02, -3.1929e-01,\n",
      "        -4.1146e-01,  9.4497e-02,  3.2520e-01, -3.1304e-02,  1.9917e-01,\n",
      "        -4.3473e-02, -3.6440e-01, -1.7776e-01, -6.6405e-02,  4.8861e-01,\n",
      "         1.2425e-01, -3.0683e-01, -1.7106e-01,  1.6562e-01, -4.1590e-01,\n",
      "        -2.0655e-01, -6.8148e-02,  5.2244e-01, -4.1623e-01,  8.0061e-02,\n",
      "        -3.3502e-01, -4.1500e-01,  3.0204e-01,  1.5044e-01,  8.6462e-02,\n",
      "        -1.6851e-02, -8.4070e-01, -1.0276e-01,  8.3441e-02,  3.7818e-01,\n",
      "         1.3910e-01,  5.1344e-01, -3.3317e-01,  4.1448e-02, -8.7086e-02,\n",
      "        -1.8286e-02,  3.7006e-02, -5.1233e-01, -1.3622e-01,  2.0025e-01,\n",
      "        -5.0364e-02, -4.4931e-01, -8.7595e-02,  7.2452e-01,  1.2152e-01,\n",
      "        -1.2217e-01,  8.4772e-02,  2.8358e-01,  1.4952e-01,  1.7704e-01,\n",
      "        -4.0676e-01,  3.5991e-01, -5.1009e-01,  2.1600e-02, -6.5324e-01,\n",
      "         3.6680e-01, -5.7222e-01,  3.1490e-01, -2.5603e-01, -3.0165e-01,\n",
      "         4.1083e-01,  1.9730e-01,  2.7872e-01,  2.0420e-01, -3.7727e-01,\n",
      "         3.9800e-01, -3.7864e-01, -2.7770e-01, -3.5369e-02,  1.5389e-01,\n",
      "         5.6272e-01, -6.0002e-02,  1.8108e-01, -5.3801e-01,  1.0298e-01,\n",
      "        -3.4385e-02, -2.6011e-01,  1.0092e-01,  8.2154e-02, -3.7863e-01,\n",
      "        -4.6209e-01, -1.1263e-01,  6.6318e-02, -5.4569e-02, -1.1027e-01,\n",
      "        -9.5185e-02, -1.7287e-01, -1.7360e-02,  1.0936e-01, -2.8456e-01,\n",
      "        -5.3394e-01,  1.3676e-01,  1.5344e-01,  2.8582e-01,  3.1998e-01,\n",
      "        -3.5600e-02,  2.7726e-01, -2.0388e-01,  2.3979e-01, -4.5410e-01,\n",
      "        -9.2595e-02,  4.1884e-01,  6.0439e-02, -1.4194e-01, -4.1602e-01,\n",
      "         2.5083e-01, -7.0779e-01, -1.1345e-02, -2.5647e-01,  6.3795e-01,\n",
      "        -6.9947e-02, -5.4626e-01,  5.3702e-02, -2.1384e-01, -9.1578e-02,\n",
      "        -1.8582e-01,  2.1913e-01,  3.7536e-02,  2.6515e-01,  4.8022e-01,\n",
      "        -5.1296e-01, -2.6352e-01,  2.3721e-01,  1.7424e-02, -7.0305e-01,\n",
      "         1.0032e-01,  3.5985e-01, -3.4027e-01,  4.0811e-01,  2.2983e-01,\n",
      "        -1.2301e-01, -1.0835e-01,  3.7176e-01, -5.0608e-02,  1.4544e-02,\n",
      "        -3.0201e-01,  2.1238e-01,  2.8296e-01,  3.9129e-01,  5.2014e-02,\n",
      "        -1.5249e-01,  4.0843e-01,  1.7613e-01,  3.6204e-01,  3.7423e-01,\n",
      "        -2.9966e-01, -1.8724e-01, -5.8185e-01, -1.9948e-01,  3.1608e-01,\n",
      "         3.2659e-01,  2.4278e-01,  1.0499e-01,  1.8620e-01, -5.6857e-02,\n",
      "         2.8626e-01, -1.5811e-01,  1.7742e-02, -4.6826e-01,  3.5261e-01,\n",
      "         2.7306e-01, -5.2990e-01,  1.4272e-01, -1.7517e-01, -6.5440e-01,\n",
      "        -6.6595e-03, -2.9524e-01, -1.2191e-01,  3.4111e-02,  3.3765e-02,\n",
      "         2.2233e-01, -3.6046e-01,  3.0463e-01, -5.2793e-01, -2.1336e-01,\n",
      "        -4.5944e-01, -7.9758e-02,  3.2970e-02,  2.6679e-01, -2.2692e-01,\n",
      "         3.4449e-01, -2.2645e-01, -1.4278e-01,  3.7548e-01, -7.7767e-02,\n",
      "        -2.3001e-01, -2.8688e-02,  4.3128e-01,  2.7684e-01, -3.7543e-01,\n",
      "        -3.4672e-01,  2.4068e-01,  1.5149e-01,  4.9327e-01,  1.9337e-01,\n",
      "         1.4511e-01, -4.5315e-01,  2.2316e-01,  4.4050e-01, -4.2241e-01,\n",
      "         2.2781e-01,  1.7427e-02,  8.7860e-02,  4.1637e-01,  5.7131e-01,\n",
      "        -6.3613e-02, -2.1672e-01,  2.8145e-01, -2.5636e-01, -3.5531e-01,\n",
      "         2.4402e-01, -1.2682e-02, -1.7593e-01, -2.1535e-01,  6.1077e-02,\n",
      "         7.6137e-02,  2.7973e-01, -3.5423e-01, -1.0416e-01,  2.7560e-02,\n",
      "         7.6881e-02,  5.1653e-02,  7.6051e-02, -6.5529e-02, -1.3464e-02,\n",
      "         5.5875e-01,  1.0661e-01, -2.5068e-01,  2.9316e-01, -4.4596e-01,\n",
      "        -3.3330e-01, -1.7225e-01,  1.7317e-01, -1.9219e-01,  2.2854e-02,\n",
      "        -3.5712e-01,  4.7610e-02,  7.9974e-02, -1.9361e-01,  3.8384e-01,\n",
      "         1.3200e-01, -2.4704e-01, -2.4230e-01,  3.7061e-01,  1.0265e-01,\n",
      "         2.4381e-01, -4.1587e-01, -4.9248e-01,  2.5970e-01,  3.7915e-01,\n",
      "         4.4124e-01, -2.5300e-01, -8.3233e-02, -3.8140e-01,  6.0859e-01,\n",
      "         7.8521e-02, -3.4561e-01, -2.5623e-01, -1.1627e-02,  2.2851e-01,\n",
      "        -2.9255e-01, -5.8687e-02,  5.0514e-02, -1.7428e-01, -5.4142e-02,\n",
      "         4.0011e-02,  7.4250e-01, -7.2815e-02,  3.3841e-02,  1.0721e-01,\n",
      "        -3.4423e-01,  2.3876e-03,  9.5141e-02, -5.7627e-02, -1.7062e-01,\n",
      "         4.6166e-01, -3.3987e-02,  3.0126e-01,  1.7330e-01, -5.2658e-01,\n",
      "         1.9061e-01, -2.9812e-01,  4.1758e-02, -6.5748e-02, -1.4752e-01,\n",
      "         1.0092e-01,  1.9548e-01, -2.4628e-01, -1.4969e-02,  4.1510e-01,\n",
      "        -2.8833e-01, -1.7180e-01, -4.1471e-01,  7.7245e-02,  3.9919e-01,\n",
      "        -1.9617e-01, -1.9946e-02,  3.4796e-01, -1.8985e-01,  2.7797e-01,\n",
      "         3.1242e-02,  4.3189e-01,  3.5122e-01,  2.7735e-01,  2.8643e-01,\n",
      "         1.1931e-01, -2.1226e-01,  9.1500e-02, -1.3983e-01,  4.2519e-01,\n",
      "         3.6063e-02,  1.4686e-01, -1.4688e-01, -3.3494e-01, -7.3789e-02,\n",
      "         8.3297e-02, -3.1597e-02,  7.1650e-02,  1.2501e-01,  1.5185e-01,\n",
      "        -3.9638e-01, -5.1985e-01,  1.7033e-01,  1.5814e-01,  7.2400e-02,\n",
      "        -1.1966e-01,  1.2317e-01,  1.8025e-01,  1.4720e-01, -1.3070e-01,\n",
      "        -1.2776e-02, -3.7288e-02,  1.8247e-02, -3.8247e-03,  1.1674e-01,\n",
      "        -4.0881e-01, -4.3229e-01, -1.5258e-01, -6.8920e-01, -2.6308e-01,\n",
      "        -3.3335e-01, -4.6999e-01, -2.5280e-01,  1.9872e-01, -2.5270e-01,\n",
      "        -3.4251e-01, -5.4354e-01,  1.0986e-02, -5.5597e-01,  3.9043e-01,\n",
      "         4.5895e-01,  5.2167e-01,  4.8655e-01,  4.0439e-01,  2.6746e-03,\n",
      "        -2.0540e-01,  1.2076e-02,  3.4529e-01, -3.5965e-01, -3.5691e-02,\n",
      "         3.5392e-01,  5.3701e-03, -2.0009e-01, -3.0032e-02,  1.1045e-01,\n",
      "        -8.2815e-01,  4.0245e-01, -1.2407e-01, -1.8462e-01,  2.9724e-01,\n",
      "        -5.5144e-03, -2.0318e-01, -2.6507e-01, -2.4773e-01, -3.5438e-01,\n",
      "        -1.1811e-02,  8.0062e-02, -1.3359e-01, -1.1709e-01, -2.9921e-01,\n",
      "         8.0951e-02, -2.7674e-01,  1.6049e-01, -1.3577e-01,  1.5887e-01,\n",
      "        -3.7849e-02, -1.3649e-01,  2.7450e-01, -3.7859e-01,  3.0552e-02,\n",
      "         3.4565e-02, -1.9350e-01, -3.2090e-01,  1.3177e-01,  1.9148e-01,\n",
      "         1.1755e-01,  7.6047e-01, -4.4028e-01,  5.6024e-02,  1.0087e-01,\n",
      "        -9.6969e-02, -3.2101e-02, -2.8861e-01, -8.3745e-02, -9.2680e-02,\n",
      "        -1.9610e-01,  5.9128e-02,  1.2618e-01, -6.4754e-02, -1.3339e-01,\n",
      "        -4.8348e-01, -2.8219e-02,  1.2879e-01], device='cuda:0')\n"
     ]
    }
   ],
   "source": [
    "print(description_features2)"
   ]
  },
  {
   "cell_type": "code",
   "execution_count": 13,
   "id": "4852af92-8e27-4186-94d8-54a9c045549f",
   "metadata": {
    "tags": []
   },
   "outputs": [
    {
     "ename": "NameError",
     "evalue": "name 'indexed_captions' is not defined",
     "output_type": "error",
     "traceback": [
      "\u001b[0;31m---------------------------------------------------------------------------\u001b[0m",
      "\u001b[0;31mNameError\u001b[0m                                 Traceback (most recent call last)",
      "Cell \u001b[0;32mIn[13], line 2\u001b[0m\n\u001b[1;32m      1\u001b[0m caption_features \u001b[38;5;241m=\u001b[39m []\n\u001b[0;32m----> 2\u001b[0m \u001b[38;5;28;01mfor\u001b[39;00m indexed_caption \u001b[38;5;129;01min\u001b[39;00m \u001b[43mindexed_captions\u001b[49m:\n\u001b[1;32m      3\u001b[0m     caption_features\u001b[38;5;241m.\u001b[39mappend(extract_text_features(indexed_caption))\n",
      "\u001b[0;31mNameError\u001b[0m: name 'indexed_captions' is not defined"
     ]
    }
   ],
   "source": [
    "caption_features = []\n",
    "for indexed_caption in indexed_captions:\n",
    "    caption_features.append(extract_text_features(indexed_caption))"
   ]
  },
  {
   "cell_type": "code",
   "execution_count": null,
   "id": "b2e74f75-e890-4610-95ec-92d397800761",
   "metadata": {
    "tags": []
   },
   "outputs": [],
   "source": [
    "print(torch.tensor(caption_features).shape)"
   ]
  }
 ],
 "metadata": {
  "kernelspec": {
   "display_name": "Python 3 (ipykernel)",
   "language": "python",
   "name": "python3"
  },
  "language_info": {
   "codemirror_mode": {
    "name": "ipython",
    "version": 3
   },
   "file_extension": ".py",
   "mimetype": "text/x-python",
   "name": "python",
   "nbconvert_exporter": "python",
   "pygments_lexer": "ipython3",
   "version": "3.10.8"
  }
 },
 "nbformat": 4,
 "nbformat_minor": 5
}

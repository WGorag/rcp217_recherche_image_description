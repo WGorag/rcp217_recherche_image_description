{
 "cells": [
  {
   "cell_type": "code",
   "execution_count": 1,
   "id": "35b8a4b8-f894-4ab4-ab5b-9ea02248faba",
   "metadata": {},
   "outputs": [],
   "source": [
    "import torch\n",
    "import torch.nn as nn\n",
    "import torch.optim as optim\n",
    "import torchvision.models as models\n",
    "import torchvision.transforms as transforms\n",
    "from torchvision.transforms import InterpolationMode\n",
    "from PIL import Image\n",
    "device = torch.device(\"cuda\" if torch.cuda.is_available() else \"cpu\")"
   ]
  },
  {
   "cell_type": "code",
   "execution_count": 2,
   "id": "66c8df31-99df-4af5-8cde-788626d611c0",
   "metadata": {},
   "outputs": [
    {
     "name": "stderr",
     "output_type": "stream",
     "text": [
      "/opt/conda/lib/python3.10/site-packages/torchvision/models/_utils.py:208: UserWarning: The parameter 'pretrained' is deprecated since 0.13 and may be removed in the future, please use 'weights' instead.\n",
      "  warnings.warn(\n",
      "/opt/conda/lib/python3.10/site-packages/torchvision/models/_utils.py:223: UserWarning: Arguments other than a weight enum or `None` for 'weights' are deprecated since 0.13 and may be removed in the future. The current behavior is equivalent to passing `weights=ResNet18_Weights.IMAGENET1K_V1`. You can also use `weights=ResNet18_Weights.DEFAULT` to get the most up-to-date weights.\n",
      "  warnings.warn(msg)\n",
      "Downloading: \"https://download.pytorch.org/models/resnet18-f37072fd.pth\" to /root/.cache/torch/hub/checkpoints/resnet18-f37072fd.pth\n"
     ]
    },
    {
     "data": {
      "application/vnd.jupyter.widget-view+json": {
       "model_id": "df4e3c00d2a34f0290d02dfc127ae4b2",
       "version_major": 2,
       "version_minor": 0
      },
      "text/plain": [
       "  0%|          | 0.00/44.7M [00:00<?, ?B/s]"
      ]
     },
     "metadata": {},
     "output_type": "display_data"
    }
   ],
   "source": [
    "resnet18 = models.resnet18(pretrained=True)\n",
    "resnet18.eval()\n",
    "\n",
    "\n",
    "def get_image_feature(path):\n",
    "    img = Image.open(path)\n",
    "    transform = transforms.Compose([\n",
    "       transforms.Resize(256),\n",
    "       transforms.CenterCrop(224),\n",
    "       transforms.ToTensor(),\n",
    "       transforms.Normalize(mean=[0.485, 0.456, 0.406],\n",
    "                            std=[0.229, 0.224, 0.225])\n",
    "    ])\n",
    "    img_tensor = transform(img)\n",
    "    img_tensor = torch.unsqueeze(img_tensor, 0)\n",
    "\n",
    "    return resnet18(img_tensor).to(device).flatten()    "
   ]
  },
  {
   "cell_type": "code",
   "execution_count": 4,
   "id": "7348e486-c275-40eb-84fe-2cacca64f0a5",
   "metadata": {
    "tags": []
   },
   "outputs": [
    {
     "name": "stderr",
     "output_type": "stream",
     "text": [
      "Traitement en cours: 100%|██████████| 8092/8092 [18:58<00:00,  7.11s/s]\n"
     ]
    }
   ],
   "source": [
    "import os\n",
    "import csv\n",
    "from tqdm import tqdm\n",
    "DATASET_PATH = 'dataset/Flicker8k_Dataset/'\n",
    "contenu_dossier = os.listdir(DATASET_PATH)\n",
    "\n",
    "image_resnet = {}\n",
    "with open('resnet.csv', 'w', newline='') as fichier_csv:\n",
    "    writer = csv.writer(fichier_csv, delimiter='\\t')\n",
    "    writer.writerow(['image', 'resnet18'])\n",
    "    for element in tqdm(contenu_dossier, desc=\"Traitement en cours\", unit=\"s\"):\n",
    "        if element == '.ipynb_checkpoints':\n",
    "            continue\n",
    "            \n",
    "        writer.writerow([element,get_image_feature(DATASET_PATH + element)])\n",
    "        fichier_csv.flush()"
   ]
  }
 ],
 "metadata": {
  "kernelspec": {
   "display_name": "Python 3 (ipykernel)",
   "language": "python",
   "name": "python3"
  },
  "language_info": {
   "codemirror_mode": {
    "name": "ipython",
    "version": 3
   },
   "file_extension": ".py",
   "mimetype": "text/x-python",
   "name": "python",
   "nbconvert_exporter": "python",
   "pygments_lexer": "ipython3",
   "version": "3.10.8"
  }
 },
 "nbformat": 4,
 "nbformat_minor": 5
}

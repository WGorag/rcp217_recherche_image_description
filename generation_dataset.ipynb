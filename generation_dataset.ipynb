{
 "cells": [
  {
   "cell_type": "code",
   "execution_count": 1,
   "id": "69fbc9a9-d857-4fec-9f35-87329fe8f144",
   "metadata": {},
   "outputs": [],
   "source": [
    "import csv\n",
    "from tqdm import tqdm\n",
    "url_flicker_train = 'flickr_8k_train_dataset.txt';\n",
    "def flicker_source(fName):\n",
    "    \"\"\"\n",
    "    Une fonction qui charge un jeu de données, et renvoie un générateur\n",
    "    permettant de le parcourir.\n",
    "\n",
    "    Résultat:\n",
    "        un générateur renvoyant des couples de string \"nom d'image\", \"label de l'image\"\n",
    "    \"\"\"\n",
    "    images = []\n",
    "    descriptions = []\n",
    "    with open(fName, encoding='utf-8') as f:\n",
    "        reader = csv.reader(f, delimiter='\\t')\n",
    "        next(reader) # skip the first row (column headers)\n",
    "        for row in reader:\n",
    "            image, texte = row\n",
    "            images.append(image)\n",
    "            descriptions.append(texte)\n",
    "        return images, descriptions\n",
    "\n",
    "def flicker_train():\n",
    "    return flicker_source(url_flicker_train)\n",
    "\n",
    "def flicker_test():\n",
    "    return flicker_source('flickr_8k_test_dataset.txt')"
   ]
  },
  {
   "cell_type": "code",
   "execution_count": 2,
   "id": "41f42732-6a12-463c-a1c1-a8734cab7f68",
   "metadata": {},
   "outputs": [],
   "source": [
    "training_images, training_descriptions = flicker_train()"
   ]
  },
  {
   "cell_type": "code",
   "execution_count": 3,
   "id": "f6463f91-6ad0-407c-873c-035de00b708e",
   "metadata": {
    "tags": []
   },
   "outputs": [
    {
     "name": "stderr",
     "output_type": "stream",
     "text": [
      "Traitement en cours: 100%|██████████| 30000/30000 [00:00<00:00, 722296.58s/s]"
     ]
    },
    {
     "name": "stdout",
     "output_type": "stream",
     "text": [
      "Le fichier CSV a été créé avec succès.\n"
     ]
    },
    {
     "name": "stderr",
     "output_type": "stream",
     "text": [
      "\n"
     ]
    }
   ],
   "source": [
    "import random\n",
    "\n",
    "csv_datas = []\n",
    "for i in tqdm(range(len(training_images)), desc=\"Traitement en cours\", unit=\"s\"):\n",
    "    csv_datas.append([training_descriptions[i], training_images[i], 1])\n",
    "    random_image = random.choice(training_images)\n",
    "    if random_image == training_images[i]:\n",
    "         random_image = random.choice(training_images)\n",
    "    csv_datas.append([training_descriptions[i], random_image, -1])\n",
    "    \n",
    "    \n",
    "nom_fichier_csv = \"dataset_train.csv\"\n",
    "\n",
    "# Écriture des données dans le fichier CSV\n",
    "with open(nom_fichier_csv, mode='w', newline='') as fichier_csv:\n",
    "    writer = csv.writer(fichier_csv, delimiter='\\t', quotechar='\"', quoting=csv.QUOTE_MINIMAL)\n",
    "    writer.writerow([\"description\", \"image\", \"similarité\"]) # Écriture des en-têtes\n",
    "    writer.writerows(csv_datas) # Écriture des données\n",
    "\n",
    "print(\"Le fichier CSV a été créé avec succès.\")"
   ]
  },
  {
   "cell_type": "code",
   "execution_count": 4,
   "id": "8b31cddb-9bb6-4214-9723-5197450983ad",
   "metadata": {
    "tags": []
   },
   "outputs": [],
   "source": [
    "images, descriptions = flicker_test()\n",
    "\n",
    "evaluation_descriptions = descriptions[:3000]\n",
    "evaluation_images = images[:3000]\n",
    "\n",
    "test_descriptions = descriptions[3000:]\n",
    "test_images = images[3000:]"
   ]
  },
  {
   "cell_type": "code",
   "execution_count": 5,
   "id": "a96f3d3f-b10e-4847-9b73-00a06533a5ea",
   "metadata": {},
   "outputs": [
    {
     "name": "stderr",
     "output_type": "stream",
     "text": [
      "Traitement en cours: 100%|██████████| 3000/3000 [00:00<00:00, 1238110.01s/s]\n"
     ]
    },
    {
     "name": "stdout",
     "output_type": "stream",
     "text": [
      "Le fichier CSV a été créé avec succès.\n"
     ]
    }
   ],
   "source": [
    "csv_datas = []\n",
    "for i in tqdm(range(len(evaluation_images)), desc=\"Traitement en cours\", unit=\"s\"):\n",
    "    csv_datas.append([evaluation_descriptions[i], evaluation_images[i], 1])\n",
    "    random_image = random.choice(evaluation_images)\n",
    "    if random_image == evaluation_images[i]:\n",
    "         random_image = random.choice(evaluation_images)\n",
    "    csv_datas.append([evaluation_descriptions[i], random_image, -1])\n",
    "    \n",
    "    \n",
    "nom_fichier_csv = \"dataset_evaluation.csv\"\n",
    "\n",
    "# Écriture des données dans le fichier CSV\n",
    "with open(nom_fichier_csv, mode='w', newline='') as fichier_csv:\n",
    "    writer = csv.writer(fichier_csv, delimiter='\\t', quotechar='\"', quoting=csv.QUOTE_MINIMAL)\n",
    "    writer.writerow([\"description\", \"image\", \"similarité\"]) # Écriture des en-têtes\n",
    "    writer.writerows(csv_datas) # Écriture des données\n",
    "\n",
    "print(\"Le fichier CSV a été créé avec succès.\")"
   ]
  },
  {
   "cell_type": "code",
   "execution_count": 6,
   "id": "cbc0b2a4-3893-455f-8e0a-6b31f2696a30",
   "metadata": {
    "tags": []
   },
   "outputs": [
    {
     "name": "stderr",
     "output_type": "stream",
     "text": [
      "Traitement en cours: 100%|██████████| 2000/2000 [00:00<00:00, 3310421.47s/s]"
     ]
    },
    {
     "name": "stdout",
     "output_type": "stream",
     "text": [
      "Le fichier CSV a été créé avec succès.\n"
     ]
    },
    {
     "name": "stderr",
     "output_type": "stream",
     "text": [
      "\n"
     ]
    }
   ],
   "source": [
    "csv_datas = []\n",
    "for i in tqdm(range(len(test_images)), desc=\"Traitement en cours\", unit=\"s\"):\n",
    "    csv_datas.append([test_descriptions[i], test_images[i]])\n",
    "    \n",
    "    \n",
    "nom_fichier_csv = \"dataset_test.csv\"\n",
    "\n",
    "# Écriture des données dans le fichier CSV\n",
    "with open(nom_fichier_csv, mode='w', newline='') as fichier_csv:\n",
    "    writer = csv.writer(fichier_csv, delimiter='\\t', quotechar='\"', quoting=csv.QUOTE_MINIMAL)\n",
    "    writer.writerow([\"description\", \"image\"]) # Écriture des en-têtes\n",
    "    writer.writerows(csv_datas) # Écriture des données\n",
    "\n",
    "print(\"Le fichier CSV a été créé avec succès.\")"
   ]
  }
 ],
 "metadata": {
  "kernelspec": {
   "display_name": "Python 3 (ipykernel)",
   "language": "python",
   "name": "python3"
  },
  "language_info": {
   "codemirror_mode": {
    "name": "ipython",
    "version": 3
   },
   "file_extension": ".py",
   "mimetype": "text/x-python",
   "name": "python",
   "nbconvert_exporter": "python",
   "pygments_lexer": "ipython3",
   "version": "3.10.8"
  }
 },
 "nbformat": 4,
 "nbformat_minor": 5
}
